{
 "cells": [
  {
   "cell_type": "code",
   "execution_count": 2,
   "metadata": {},
   "outputs": [],
   "source": [
    "#Running the core utilities notebook with all validation and loading functions\n",
    "%run transform_utils.ipynb"
   ]
  },
  {
   "cell_type": "code",
   "execution_count": 3,
   "metadata": {},
   "outputs": [
    {
     "data": {
      "text/html": [
       "<div>\n",
       "<style scoped>\n",
       "    .dataframe tbody tr th:only-of-type {\n",
       "        vertical-align: middle;\n",
       "    }\n",
       "\n",
       "    .dataframe tbody tr th {\n",
       "        vertical-align: top;\n",
       "    }\n",
       "\n",
       "    .dataframe thead th {\n",
       "        text-align: right;\n",
       "    }\n",
       "</style>\n",
       "<table border=\"1\" class=\"dataframe\">\n",
       "  <thead>\n",
       "    <tr style=\"text-align: right;\">\n",
       "      <th></th>\n",
       "      <th>location_id</th>\n",
       "      <th>date</th>\n",
       "      <th>temperature</th>\n",
       "      <th>pressure</th>\n",
       "      <th>humidity</th>\n",
       "      <th>cloudy</th>\n",
       "      <th>precipitation</th>\n",
       "    </tr>\n",
       "  </thead>\n",
       "  <tbody>\n",
       "    <tr>\n",
       "      <th>0</th>\n",
       "      <td>003</td>\n",
       "      <td>2020-01-22</td>\n",
       "      <td>18.14</td>\n",
       "      <td>1035.058685</td>\n",
       "      <td>0.44</td>\n",
       "      <td>True</td>\n",
       "      <td>False</td>\n",
       "    </tr>\n",
       "    <tr>\n",
       "      <th>1</th>\n",
       "      <td>008</td>\n",
       "      <td>2022-01-29</td>\n",
       "      <td>14.36</td>\n",
       "      <td>1027.253521</td>\n",
       "      <td>0.95</td>\n",
       "      <td>True</td>\n",
       "      <td>False</td>\n",
       "    </tr>\n",
       "    <tr>\n",
       "      <th>2</th>\n",
       "      <td>005</td>\n",
       "      <td>2021-11-28</td>\n",
       "      <td>35.42</td>\n",
       "      <td>994.694836</td>\n",
       "      <td>0.37</td>\n",
       "      <td>False</td>\n",
       "      <td>False</td>\n",
       "    </tr>\n",
       "    <tr>\n",
       "      <th>3</th>\n",
       "      <td>006</td>\n",
       "      <td>2021-10-12</td>\n",
       "      <td>37.94</td>\n",
       "      <td>1003.838028</td>\n",
       "      <td>0.11</td>\n",
       "      <td>True</td>\n",
       "      <td>True</td>\n",
       "    </tr>\n",
       "    <tr>\n",
       "      <th>4</th>\n",
       "      <td>002</td>\n",
       "      <td>2020-12-03</td>\n",
       "      <td>23.36</td>\n",
       "      <td>1027.476526</td>\n",
       "      <td>0.60</td>\n",
       "      <td>False</td>\n",
       "      <td>False</td>\n",
       "    </tr>\n",
       "  </tbody>\n",
       "</table>\n",
       "</div>"
      ],
      "text/plain": [
       "  location_id        date  temperature     pressure  humidity  cloudy  \\\n",
       "0         003  2020-01-22        18.14  1035.058685      0.44    True   \n",
       "1         008  2022-01-29        14.36  1027.253521      0.95    True   \n",
       "2         005  2021-11-28        35.42   994.694836      0.37   False   \n",
       "3         006  2021-10-12        37.94  1003.838028      0.11    True   \n",
       "4         002  2020-12-03        23.36  1027.476526      0.60   False   \n",
       "\n",
       "   precipitation  \n",
       "0          False  \n",
       "1          False  \n",
       "2          False  \n",
       "3           True  \n",
       "4          False  "
      ]
     },
     "execution_count": 3,
     "metadata": {},
     "output_type": "execute_result"
    }
   ],
   "source": [
    "#load data\n",
    "weather_silver_df = pd.read_csv(weather_bronze_path, dtype= weather_silver_schema)\n",
    "weather_silver_df.head()"
   ]
  },
  {
   "cell_type": "code",
   "execution_count": 4,
   "metadata": {},
   "outputs": [
    {
     "name": "stdout",
     "output_type": "stream",
     "text": [
      "DataFrame saved to ../Submission/silver_data/silver_weather/weather_silver_data.csv\n"
     ]
    }
   ],
   "source": [
    "# since there are no transformations I am directly writing - leaving room for future transformations\n",
    "file_name = 'weather_silver_data.csv'\n",
    "write_to_path_silver(weather_silver_df,silver_weather_path,file_name)"
   ]
  },
  {
   "cell_type": "code",
   "execution_count": 5,
   "metadata": {},
   "outputs": [],
   "source": [
    "# open db connection\n",
    "conn = sqlite3.connect('tubing.db')\n",
    "cursor = conn.cursor()"
   ]
  },
  {
   "cell_type": "code",
   "execution_count": 10,
   "metadata": {},
   "outputs": [],
   "source": [
    "#add rows to db - I would prefer to uspert or overwrite using pyspark/sparksql - but since sqlLite is limited I am using write\n",
    "weather_silver_df.to_sql('weather', conn, if_exists='append', index=False)\n",
    "conn.commit()"
   ]
  },
  {
   "cell_type": "code",
   "execution_count": 11,
   "metadata": {},
   "outputs": [
    {
     "name": "stdout",
     "output_type": "stream",
     "text": [
      "Fetched rows:\n",
      "('2020-01-22', '003', 18.14, 1035.0586854460091, 0.44, 1, 0)\n",
      "('2022-01-29', '008', 14.36, 1027.2535211267605, 0.95, 1, 0)\n",
      "('2021-11-28', '005', 35.42, 994.6948356807512, 0.37, 0, 0)\n",
      "('2021-10-12', '006', 37.94, 1003.838028169014, 0.11, 1, 1)\n",
      "('2020-12-03', '002', 23.36, 1027.4765258215962, 0.6, 0, 0)\n",
      "('2019-04-02', '005', 32.18, 1023.2394366197184, 0.31, 1, 0)\n",
      "('2020-04-16', '008', 40.28, 986.6666666666666, 0.63, 1, 1)\n",
      "('2020-10-07', '005', 43.16, 992.0187793427232, 0.88, 1, 1)\n",
      "('2020-03-11', '008', 26.6, 977.9694835680752, 0.65, 1, 1)\n",
      "('2022-10-17', '001', 44.96, 1037.2887323943662, 0.67, 0, 0)\n",
      "('2021-01-14', '005', 4.099999999999998, 995.3638497652582, 0.92, 0, 0)\n",
      "('2021-07-21', '005', 71.24000000000001, 1025.2464788732395, 0.96, 1, 0)\n",
      "('2020-07-18', '003', 74.66, 979.9765258215964, 0.74, 0, 0)\n",
      "('2020-09-02', '001', 70.16, 1027.9225352112676, 0.83, 1, 0)\n",
      "('2022-10-14', '001', 46.04, 967.2652582159624, 0.92, 1, 1)\n",
      "('2022-10-15', '010', 49.82, 963.0281690140844, 0.94, 0, 0)\n",
      "('2021-06-11', '008', 71.24000000000001, 975.962441314554, 0.67, 1, 1)\n",
      "('2020-02-22', '006', 4.640000000000001, 991.7957746478874, 0.35, 0, 0)\n",
      "('2021-03-24', '004', 25.7, 1019.8943661971832, 0.99, 1, 1)\n",
      "('2022-10-26', '004', 52.52, 1014.988262910798, 0.84, 0, 0)\n"
     ]
    }
   ],
   "source": [
    "# test if rows are in the table\n",
    "query = \"\"\"\n",
    "SELECT * FROM weather LIMIT 20\n",
    "\"\"\"\n",
    "cursor.execute(query)\n",
    "\n",
    "# Fetch the results\n",
    "results = cursor.fetchall()\n",
    "\n",
    "# Print the results\n",
    "if results:\n",
    "    print(\"Fetched rows:\")\n",
    "    for row in results:\n",
    "        print(row)\n",
    "else:\n",
    "    print(\"No rows fetched. The table might be empty.\")\n",
    "# Close the connection\n"
   ]
  },
  {
   "cell_type": "code",
   "execution_count": 12,
   "metadata": {},
   "outputs": [],
   "source": [
    "conn.close()"
   ]
  },
  {
   "cell_type": "code",
   "execution_count": null,
   "metadata": {},
   "outputs": [],
   "source": []
  }
 ],
 "metadata": {
  "kernelspec": {
   "display_name": "base",
   "language": "python",
   "name": "python3"
  },
  "language_info": {
   "codemirror_mode": {
    "name": "ipython",
    "version": 3
   },
   "file_extension": ".py",
   "mimetype": "text/x-python",
   "name": "python",
   "nbconvert_exporter": "python",
   "pygments_lexer": "ipython3",
   "version": "3.11.4"
  }
 },
 "nbformat": 4,
 "nbformat_minor": 2
}
