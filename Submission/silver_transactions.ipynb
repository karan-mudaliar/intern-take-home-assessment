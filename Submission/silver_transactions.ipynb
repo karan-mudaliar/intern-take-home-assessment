{
 "cells": [
  {
   "cell_type": "code",
   "execution_count": 1,
   "metadata": {},
   "outputs": [],
   "source": [
    "#Running the core utilities notebook with all validation and loading functions\n",
    "%run transform_utils.ipynb"
   ]
  },
  {
   "cell_type": "code",
   "execution_count": 6,
   "metadata": {},
   "outputs": [
    {
     "data": {
      "text/html": [
       "<div>\n",
       "<style scoped>\n",
       "    .dataframe tbody tr th:only-of-type {\n",
       "        vertical-align: middle;\n",
       "    }\n",
       "\n",
       "    .dataframe tbody tr th {\n",
       "        vertical-align: top;\n",
       "    }\n",
       "\n",
       "    .dataframe thead th {\n",
       "        text-align: right;\n",
       "    }\n",
       "</style>\n",
       "<table border=\"1\" class=\"dataframe\">\n",
       "  <thead>\n",
       "    <tr style=\"text-align: right;\">\n",
       "      <th></th>\n",
       "      <th>location_id</th>\n",
       "      <th>date</th>\n",
       "      <th>transaction_id</th>\n",
       "      <th>profit</th>\n",
       "    </tr>\n",
       "  </thead>\n",
       "  <tbody>\n",
       "    <tr>\n",
       "      <th>0</th>\n",
       "      <td>008</td>\n",
       "      <td>2019-01-02</td>\n",
       "      <td>001</td>\n",
       "      <td>26.89</td>\n",
       "    </tr>\n",
       "    <tr>\n",
       "      <th>1</th>\n",
       "      <td>008</td>\n",
       "      <td>2019-01-02</td>\n",
       "      <td>002</td>\n",
       "      <td>24.74</td>\n",
       "    </tr>\n",
       "    <tr>\n",
       "      <th>2</th>\n",
       "      <td>008</td>\n",
       "      <td>2019-01-02</td>\n",
       "      <td>003</td>\n",
       "      <td>31.36</td>\n",
       "    </tr>\n",
       "    <tr>\n",
       "      <th>3</th>\n",
       "      <td>008</td>\n",
       "      <td>2019-01-02</td>\n",
       "      <td>004</td>\n",
       "      <td>27.06</td>\n",
       "    </tr>\n",
       "    <tr>\n",
       "      <th>4</th>\n",
       "      <td>008</td>\n",
       "      <td>2019-01-02</td>\n",
       "      <td>005</td>\n",
       "      <td>29.51</td>\n",
       "    </tr>\n",
       "  </tbody>\n",
       "</table>\n",
       "</div>"
      ],
      "text/plain": [
       "  location_id       date transaction_id  profit\n",
       "0         008 2019-01-02            001   26.89\n",
       "1         008 2019-01-02            002   24.74\n",
       "2         008 2019-01-02            003   31.36\n",
       "3         008 2019-01-02            004   27.06\n",
       "4         008 2019-01-02            005   29.51"
      ]
     },
     "execution_count": 6,
     "metadata": {},
     "output_type": "execute_result"
    }
   ],
   "source": [
    "#load data\n",
    "transaction_silver_df, transaction_silver_df_counts = read_transactions_csv(transactions_bronze_path)\n",
    "transaction_silver_df.head()"
   ]
  },
  {
   "cell_type": "code",
   "execution_count": 11,
   "metadata": {},
   "outputs": [
    {
     "data": {
      "text/plain": [
       "85347"
      ]
     },
     "execution_count": 11,
     "metadata": {},
     "output_type": "execute_result"
    }
   ],
   "source": [
    "# validate if the sum of the rows in individual files is equal to the number of rows in the final df \n",
    "assert len(transaction_silver_df) == sum(transaction_silver_df_counts)\n",
    "sum(transaction_silver_df_counts)"
   ]
  },
  {
   "cell_type": "code",
   "execution_count": 12,
   "metadata": {},
   "outputs": [
    {
     "name": "stdout",
     "output_type": "stream",
     "text": [
      "DataFrame saved to ../Submission/silver_data/silver_transactions/transaction_silver_data.csv\n"
     ]
    }
   ],
   "source": [
    "# since there are no transformations I am directly writing - leaving room for future transformations\n",
    "file_name = 'transaction_silver_data.csv'\n",
    "write_to_path_silver(transaction_silver_df,silver_transaction_path,file_name)"
   ]
  },
  {
   "cell_type": "code",
   "execution_count": 27,
   "metadata": {},
   "outputs": [
    {
     "name": "stdout",
     "output_type": "stream",
     "text": [
      "Empty DataFrame\n",
      "Columns: [location_id, date, transaction_id, profit]\n",
      "Index: []\n"
     ]
    }
   ],
   "source": [
    "# Find duplicate rows based on 'transaction_id', 'location_id', and 'date'\n",
    "duplicates = transaction_silver_df.duplicated(subset=['transaction_id', 'location_id', 'date'], keep=False)\n",
    "\n",
    "# Filter the DataFrame to show only the duplicate rows\n",
    "duplicate_rows = transaction_silver_df[duplicates]\n",
    "\n",
    "# Display the duplicate rows\n",
    "print(duplicate_rows)\n"
   ]
  },
  {
   "cell_type": "code",
   "execution_count": 34,
   "metadata": {},
   "outputs": [],
   "source": [
    "#open db connection\n",
    "conn = sqlite3.connect('tubing.db')\n",
    "cursor = conn.cursor()"
   ]
  },
  {
   "cell_type": "code",
   "execution_count": 35,
   "metadata": {},
   "outputs": [
    {
     "data": {
      "text/plain": [
       "85347"
      ]
     },
     "execution_count": 35,
     "metadata": {},
     "output_type": "execute_result"
    }
   ],
   "source": [
    "#load rows to table\n",
    "transaction_silver_df.to_sql('transactions', conn, if_exists='append', index=False)"
   ]
  },
  {
   "cell_type": "code",
   "execution_count": 41,
   "metadata": {},
   "outputs": [
    {
     "name": "stdout",
     "output_type": "stream",
     "text": [
      "Fetched rows:\n",
      "('001', '008', '2019-01-02T00:00:00', 26.89)\n",
      "('002', '008', '2019-01-02T00:00:00', 24.74)\n",
      "('003', '008', '2019-01-02T00:00:00', 31.36)\n",
      "('004', '008', '2019-01-02T00:00:00', 27.06)\n",
      "('005', '008', '2019-01-02T00:00:00', 29.51)\n",
      "('006', '008', '2019-01-02T00:00:00', 27.52)\n",
      "('007', '008', '2019-01-02T00:00:00', 26.59)\n",
      "('008', '008', '2019-01-02T00:00:00', 28.4)\n",
      "('009', '008', '2019-01-02T00:00:00', 28.42)\n",
      "('010', '008', '2019-01-02T00:00:00', 25.11)\n"
     ]
    }
   ],
   "source": [
    "# Drop the temporary table\n",
    "\n",
    "\n",
    "query = \"\"\"\n",
    "SELECT * FROM transactions LIMIT 10\n",
    "\"\"\"\n",
    "cursor.execute(query)\n",
    "\n",
    "# Fetch the results\n",
    "results = cursor.fetchall()\n",
    "\n",
    "# Print the results\n",
    "if results:\n",
    "    print(\"Fetched rows:\")\n",
    "    for row in results:\n",
    "        print(row)\n",
    "else:\n",
    "    print(\"No rows fetched. The table might be empty.\")\n",
    "# Close the connection\n",
    "\n"
   ]
  },
  {
   "cell_type": "code",
   "execution_count": 32,
   "metadata": {},
   "outputs": [],
   "source": [
    "conn.close()"
   ]
  },
  {
   "cell_type": "code",
   "execution_count": null,
   "metadata": {},
   "outputs": [],
   "source": []
  }
 ],
 "metadata": {
  "kernelspec": {
   "display_name": "base",
   "language": "python",
   "name": "python3"
  },
  "language_info": {
   "codemirror_mode": {
    "name": "ipython",
    "version": 3
   },
   "file_extension": ".py",
   "mimetype": "text/x-python",
   "name": "python",
   "nbconvert_exporter": "python",
   "pygments_lexer": "ipython3",
   "version": "3.11.4"
  }
 },
 "nbformat": 4,
 "nbformat_minor": 2
}
