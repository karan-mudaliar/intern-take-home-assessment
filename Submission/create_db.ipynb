{
 "cells": [
  {
   "cell_type": "code",
   "execution_count": 1,
   "metadata": {},
   "outputs": [],
   "source": [
    "%run transform_utils.ipynb"
   ]
  },
  {
   "cell_type": "code",
   "execution_count": 16,
   "metadata": {},
   "outputs": [
    {
     "name": "stdout",
     "output_type": "stream",
     "text": [
      "All tables created successfully in the 'tubing' database.\n"
     ]
    }
   ],
   "source": [
    "\n",
    "\n",
    "# Connect to the 'tubing' database\n",
    "conn = sqlite3.connect('tubing.db')\n",
    "cursor = conn.cursor()\n",
    "\n",
    "# SQL statements to create each table\n",
    "location_table = \"\"\"\n",
    "CREATE TABLE IF NOT EXISTS location (\n",
    "    location_id VARCHAR PRIMARY KEY,\n",
    "    elevation INTEGER,\n",
    "    population INTEGER\n",
    ");\n",
    "\"\"\"\n",
    "\n",
    "transactions_table = \"\"\"\n",
    "CREATE TABLE IF NOT EXISTS transactions (\n",
    "    transaction_id VARCHAR,\n",
    "    location_id VARCHAR,\n",
    "    date DATE,\n",
    "    profit FLOAT,\n",
    "    PRIMARY KEY (transaction_id, location_id, date),\n",
    "    FOREIGN KEY (location_id) REFERENCES location(location_id),\n",
    "    FOREIGN KEY (date) REFERENCES date(date)\n",
    ");\n",
    "\"\"\"\n",
    "\n",
    "weather_table = \"\"\"\n",
    "CREATE TABLE IF NOT EXISTS weather (\n",
    "    date DATE,\n",
    "    location_id VARCHAR,\n",
    "    temperature FLOAT,\n",
    "    pressure FLOAT,\n",
    "    humidity FLOAT,\n",
    "    cloudy BOOL,\n",
    "    precipitation BOOL,\n",
    "    PRIMARY KEY (date, location_id),\n",
    "    FOREIGN KEY (location_id) REFERENCES location(location_id),\n",
    "    FOREIGN KEY (date) REFERENCES date(date)\n",
    ");\n",
    "\"\"\"\n",
    "\n",
    "date_table = \"\"\"\n",
    "CREATE TABLE IF NOT EXISTS date (\n",
    "    date DATE PRIMARY KEY,\n",
    "    day INTEGER,\n",
    "    day_of_week INTEGER,\n",
    "    month INTEGER,\n",
    "    year INTEGER,\n",
    "    holiday BOOL\n",
    ");\n",
    "\"\"\"\n",
    "\n",
    "# Execute the SQL statements to create the tables\n",
    "cursor.execute(location_table)\n",
    "cursor.execute(transactions_table)\n",
    "cursor.execute(weather_table)\n",
    "cursor.execute(date_table)\n",
    "\n",
    "# Commit the changes and close the connection\n",
    "\n",
    "\n",
    "print(\"All tables created successfully in the 'tubing' database.\")\n"
   ]
  },
  {
   "cell_type": "code",
   "execution_count": 20,
   "metadata": {},
   "outputs": [
    {
     "ename": "ProgrammingError",
     "evalue": "Cannot operate on a closed database.",
     "output_type": "error",
     "traceback": [
      "\u001b[0;31m---------------------------------------------------------------------------\u001b[0m",
      "\u001b[0;31mProgrammingError\u001b[0m                          Traceback (most recent call last)",
      "Cell \u001b[0;32mIn[20], line 4\u001b[0m\n\u001b[1;32m      1\u001b[0m query \u001b[38;5;241m=\u001b[39m \u001b[38;5;124m\"\u001b[39m\u001b[38;5;124mSELECT name, sql FROM sqlite_master WHERE type=\u001b[39m\u001b[38;5;124m'\u001b[39m\u001b[38;5;124mtable\u001b[39m\u001b[38;5;124m'\u001b[39m\u001b[38;5;124m;\u001b[39m\u001b[38;5;124m\"\u001b[39m\n\u001b[1;32m      3\u001b[0m \u001b[38;5;66;03m# Execute the query\u001b[39;00m\n\u001b[0;32m----> 4\u001b[0m \u001b[43mcursor\u001b[49m\u001b[38;5;241;43m.\u001b[39;49m\u001b[43mexecute\u001b[49m\u001b[43m(\u001b[49m\u001b[43mquery\u001b[49m\u001b[43m)\u001b[49m\n\u001b[1;32m      6\u001b[0m \u001b[38;5;66;03m# Fetch all the results\u001b[39;00m\n\u001b[1;32m      7\u001b[0m table_schemas \u001b[38;5;241m=\u001b[39m cursor\u001b[38;5;241m.\u001b[39mfetchall()\n",
      "\u001b[0;31mProgrammingError\u001b[0m: Cannot operate on a closed database."
     ]
    }
   ],
   "source": [
    "query = \"SELECT name, sql FROM sqlite_master WHERE type='table';\"\n",
    "\n",
    "# Execute the query\n",
    "cursor.execute(query)\n",
    "\n",
    "# Fetch all the results\n",
    "table_schemas = cursor.fetchall()\n",
    "\n",
    "# Print the name and schema of each table\n",
    "for name, schema in table_schemas:\n",
    "    print(f\"Table: {name}\\nSchema: {schema}\\n\")"
   ]
  },
  {
   "cell_type": "code",
   "execution_count": 19,
   "metadata": {},
   "outputs": [],
   "source": [
    "conn.close()"
   ]
  },
  {
   "cell_type": "code",
   "execution_count": null,
   "metadata": {},
   "outputs": [],
   "source": []
  }
 ],
 "metadata": {
  "kernelspec": {
   "display_name": "base",
   "language": "python",
   "name": "python3"
  },
  "language_info": {
   "codemirror_mode": {
    "name": "ipython",
    "version": 3
   },
   "file_extension": ".py",
   "mimetype": "text/x-python",
   "name": "python",
   "nbconvert_exporter": "python",
   "pygments_lexer": "ipython3",
   "version": "3.11.4"
  }
 },
 "nbformat": 4,
 "nbformat_minor": 2
}
