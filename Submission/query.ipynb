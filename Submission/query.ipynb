{
 "cells": [
  {
   "cell_type": "code",
   "execution_count": 1,
   "metadata": {},
   "outputs": [],
   "source": [
    "%run transform_utils.ipynb"
   ]
  },
  {
   "cell_type": "code",
   "execution_count": 3,
   "metadata": {},
   "outputs": [],
   "source": [
    "conn = sqlite3.connect('tubing.db')\n",
    "cursor = conn.cursor()"
   ]
  },
  {
   "cell_type": "code",
   "execution_count": 4,
   "metadata": {},
   "outputs": [],
   "source": [
    "# writing the query \n",
    "sql_query = \"\"\"\n",
    "WITH ProfitChanges AS (\n",
    "    SELECT\n",
    "        t.location_id,\n",
    "        t.date,\n",
    "        SUM(t.profit) AS daily_sum_profit,\n",
    "        CASE\n",
    "            WHEN SUM(t.profit) > 0 THEN 'positive'\n",
    "            WHEN SUM(t.profit) < 0 THEN 'negative'\n",
    "            ELSE 'neutral'\n",
    "        END AS profit_indicator\n",
    "    FROM\n",
    "        transactions t\n",
    "    GROUP BY\n",
    "        t.location_id, t.date\n",
    "),\n",
    "ProfitPercChange AS (\n",
    "    SELECT\n",
    "        pc1.location_id,\n",
    "        pc1.date,\n",
    "        pc1.daily_sum_profit,\n",
    "        pc1.profit_indicator,\n",
    "        ((pc1.daily_sum_profit - IFNULL(pc2.daily_sum_profit, 0)) / IFNULL(pc2.daily_sum_profit, 1)) * 100 AS percent_change_profit\n",
    "    FROM\n",
    "        ProfitChanges pc1\n",
    "    LEFT JOIN\n",
    "        ProfitChanges pc2 ON pc1.location_id = pc2.location_id AND pc1.date = DATE(pc2.date, '+1 day')\n",
    ")\n",
    "SELECT\n",
    "    w.location_id,\n",
    "    w.date,\n",
    "    w.temperature,\n",
    "    ppc.daily_sum_profit,\n",
    "    ppc.profit_indicator,\n",
    "    ppc.percent_change_profit,\n",
    "    (\n",
    "        SELECT SUM(daily_sum_profit)\n",
    "        FROM ProfitChanges\n",
    "        WHERE location_id = w.location_id AND date BETWEEN DATE(w.date, '-29 days') AND w.date\n",
    "    ) AS rolling_30_day_sum_profit\n",
    "FROM\n",
    "    weather w\n",
    "LEFT JOIN\n",
    "    ProfitPercChange ppc ON w.location_id = ppc.location_id AND w.date = ppc.date\n",
    "ORDER BY\n",
    "    w.location_id, w.date\n",
    "LIMIT 50;\n",
    "\"\"\"\n"
   ]
  },
  {
   "cell_type": "code",
   "execution_count": 5,
   "metadata": {},
   "outputs": [
    {
     "name": "stdout",
     "output_type": "stream",
     "text": [
      "('001', '2019-01-02', 16.88, None, None, None, None)\n",
      "('001', '2019-01-03', 17.240000000000002, None, None, None, 430.96000000000004)\n",
      "('001', '2019-01-04', 9.32, None, None, None, 847.86)\n",
      "('001', '2019-01-05', 20.12, None, None, None, 1128.02)\n",
      "('001', '2019-01-06', 17.240000000000002, None, None, None, 1544.0)\n",
      "('001', '2019-01-07', 14.9, None, None, None, 1956.2)\n",
      "('001', '2019-01-09', 15.8, None, None, None, 2282.73)\n",
      "('001', '2019-01-10', 20.12, None, None, None, 2663.2400000000002)\n",
      "('001', '2019-01-11', 19.58, None, None, None, 3061.75)\n",
      "('001', '2019-01-12', 15.44, None, None, None, 3459.12)\n",
      "('001', '2019-01-13', 16.52, None, None, None, 3895.41)\n",
      "('001', '2019-01-14', 6.800000000000001, None, None, None, 4385.72)\n",
      "('001', '2019-01-15', 15.98, None, None, None, 4520.650000000001)\n",
      "('001', '2019-01-16', 8.779999999999998, None, None, None, 4825.380000000001)\n",
      "('001', '2019-01-17', 12.38, None, None, None, 5003.100000000001)\n",
      "('001', '2019-01-18', 8.240000000000002, None, None, None, 5166.210000000001)\n",
      "('001', '2019-01-19', 10.4, None, None, None, 5318.630000000001)\n",
      "('001', '2019-01-20', 21.02, None, None, None, 5717.340000000001)\n",
      "('001', '2019-01-21', 12.2, None, None, None, 6254.170000000001)\n",
      "('001', '2019-01-22', 13.82, None, None, None, 6491.230000000001)\n",
      "('001', '2019-01-23', 21.2, None, None, None, 6625.960000000001)\n",
      "('001', '2019-01-24', 13.099999999999998, None, None, None, 7019.740000000001)\n",
      "('001', '2019-01-25', 13.279999999999998, None, None, None, 7254.77)\n",
      "('001', '2019-01-26', 6.800000000000001, None, None, None, 7505.910000000001)\n",
      "('001', '2019-01-27', 6.800000000000001, None, None, None, 7898.4800000000005)\n",
      "('001', '2019-01-28', 10.22, None, None, None, 8162.9400000000005)\n",
      "('001', '2019-01-29', 18.14, None, None, None, 8291.37)\n",
      "('001', '2019-01-30', 16.7, None, None, None, 8676.25)\n",
      "('001', '2019-01-31', 23.36, None, None, None, 9055.16)\n",
      "('001', '2019-02-01', 22.1, None, None, None, 8985.47)\n",
      "('001', '2019-02-02', 12.2, None, None, None, 8775.949999999999)\n",
      "('001', '2019-02-03', 16.88, None, None, None, 8715.98)\n",
      "('001', '2019-02-05', 15.079999999999998, None, None, None, 8717.21)\n",
      "('001', '2019-02-06', 16.88, None, None, None, 8895.949999999999)\n",
      "('001', '2019-02-07', 24.26, None, None, None, 9065.329999999998)\n",
      "('001', '2019-02-08', 20.84, None, None, None, 9015.25)\n",
      "('001', '2019-02-09', 8.420000000000002, None, None, None, 8954.81)\n",
      "('001', '2019-02-10', 14.54, None, None, None, 8882.21)\n",
      "('001', '2019-02-11', 23.54, None, None, None, 8720.1)\n",
      "('001', '2019-02-12', 24.62, None, None, None, 8406.470000000001)\n",
      "('001', '2019-02-13', 9.14, None, None, None, 8582.34)\n",
      "('001', '2019-02-14', 9.32, None, None, None, 8445.499999999998)\n",
      "('001', '2019-02-15', 12.38, None, None, None, 8420.85)\n",
      "('001', '2019-02-16', 12.56, None, None, None, 8295.27)\n",
      "('001', '2019-02-17', 10.759999999999998, None, None, None, 8339.81)\n",
      "('001', '2019-02-18', 20.12, None, None, None, 8118.64)\n",
      "('001', '2019-02-19', 16.7, None, None, None, 7730.27)\n",
      "('001', '2019-02-20', 8.599999999999998, None, None, None, 7655.249999999999)\n",
      "('001', '2019-02-21', 20.12, None, None, None, 7538.790000000002)\n",
      "('001', '2019-02-22', 10.94, None, None, None, 7305.880000000001)\n"
     ]
    }
   ],
   "source": [
    "cursor.execute(sql_query)\n",
    "\n",
    "# Fetch the results\n",
    "results = cursor.fetchall()\n",
    "\n",
    "# Close the cursor and the connection\n",
    "cursor.close()\n",
    "conn.close()\n",
    "\n",
    "# Print the results\n",
    "for row in results:\n",
    "    print(row)"
   ]
  },
  {
   "cell_type": "code",
   "execution_count": null,
   "metadata": {},
   "outputs": [],
   "source": []
  }
 ],
 "metadata": {
  "kernelspec": {
   "display_name": "base",
   "language": "python",
   "name": "python3"
  },
  "language_info": {
   "codemirror_mode": {
    "name": "ipython",
    "version": 3
   },
   "file_extension": ".py",
   "mimetype": "text/x-python",
   "name": "python",
   "nbconvert_exporter": "python",
   "pygments_lexer": "ipython3",
   "version": "3.11.4"
  }
 },
 "nbformat": 4,
 "nbformat_minor": 2
}
