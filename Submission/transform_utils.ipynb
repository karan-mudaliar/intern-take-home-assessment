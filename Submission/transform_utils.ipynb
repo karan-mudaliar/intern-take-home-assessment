{
 "cells": [
  {
   "cell_type": "code",
   "execution_count": 2,
   "metadata": {},
   "outputs": [],
   "source": [
    "import pandas as pd\n",
    "import pandasql as psql\n",
    "import sqlite3\n",
    "import re\n",
    "import numpy as np\n",
    "import glob\n",
    "import os"
   ]
  },
  {
   "cell_type": "code",
   "execution_count": 23,
   "metadata": {},
   "outputs": [],
   "source": [
    "transactions_bronze_path = '../Submission/bronze_data/transaction_data'\n",
    "holiday_bronze_path = '../Submission/bronze_data/holiday_data/holiday_data.csv'\n",
    "weather_bronze_path = '../Submission/bronze_data/weather_data/weather_data.csv'\n",
    "locations_bronze_path = '../Submission/bronze_data/location_data/location_data.csv'\n",
    "\n",
    "silver_date_path = '../Submission/silver_data/silver_date'\n",
    "silver_location_path = '../Submission/silver_data/silver_locations'\n",
    "silver_transaction_path = '../Submission/silver_data/silver_transactions'\n",
    "silver_weather_path = '../Submission/silver_data/silver_weather'"
   ]
  },
  {
   "cell_type": "code",
   "execution_count": 25,
   "metadata": {},
   "outputs": [],
   "source": [
    "weather_silver_schema = {\n",
    "                    'location_id': str,\n",
    "                    'date': str,\n",
    "                    'temperature': float,\n",
    "                    'pressure': float,\n",
    "                    'humidity': float,\n",
    "                    'cloudy': bool,\n",
    "                    'precipitation': bool\n",
    "                }\n",
    "\n",
    "location_silver_schema = {\n",
    "                    \t'location_id' : str,\n",
    "                        'population': int,\n",
    "                        'elevation': float\n",
    "                }\n",
    "\n",
    "transaction_silver_schema = {\n",
    "                        'location_id': str, \n",
    "                        'transaction_id': str, \n",
    "                        'profit': float\n",
    "                    }\n",
    "\n"
   ]
  },
  {
   "cell_type": "code",
   "execution_count": 15,
   "metadata": {},
   "outputs": [],
   "source": [
    "def read_transactions_csv(path):\n",
    "    csv_files = glob.glob(os.path.join(path, 'transaction*.csv'))\n",
    "    df_list = []\n",
    "    df_counts = []\n",
    "\n",
    "    schema = {\n",
    "        'location_id': str, \n",
    "        'transaction_id': str, \n",
    "        'profit': float\n",
    "    }\n",
    "\n",
    "    for csv_file in csv_files:\n",
    "        try:\n",
    "            # Read the CSV file. Pandas assumes comma as the default delimiter for CSV.\n",
    "            temp_df = pd.read_csv(csv_file, dtype=schema,  parse_dates=['date'])\n",
    "            df_list.append(temp_df)\n",
    "            df_counts.append(len(temp_df))\n",
    "        except Exception as e:  # Using a broad catch to handle any error during file reading\n",
    "            print(f\"Error reading {csv_file}: {e}\")\n",
    "\n",
    "    if not df_list:  # If df_list is empty after the loop\n",
    "        print(\"No valid CSV files found or all files failed to load.\")\n",
    "        return None, None\n",
    "\n",
    "    combined_df = pd.concat(df_list, ignore_index=True)\n",
    "\n",
    "    return combined_df, df_counts"
   ]
  },
  {
   "cell_type": "code",
   "execution_count": 22,
   "metadata": {},
   "outputs": [],
   "source": [
    "def write_to_path_silver(df, file_path, file_name):\n",
    "    \n",
    "    full_file_path = f\"{file_path}/{file_name}\"\n",
    "    df.to_csv(full_file_path, index=False)\n",
    "\n",
    "    return print(f\"DataFrame saved to {full_file_path}\")"
   ]
  },
  {
   "cell_type": "code",
   "execution_count": 26,
   "metadata": {},
   "outputs": [],
   "source": []
  },
  {
   "cell_type": "code",
   "execution_count": null,
   "metadata": {},
   "outputs": [],
   "source": []
  }
 ],
 "metadata": {
  "kernelspec": {
   "display_name": "base",
   "language": "python",
   "name": "python3"
  },
  "language_info": {
   "codemirror_mode": {
    "name": "ipython",
    "version": 3
   },
   "file_extension": ".py",
   "mimetype": "text/x-python",
   "name": "python",
   "nbconvert_exporter": "python",
   "pygments_lexer": "ipython3",
   "version": "3.11.4"
  }
 },
 "nbformat": 4,
 "nbformat_minor": 2
}
